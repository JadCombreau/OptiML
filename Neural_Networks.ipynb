{
  "nbformat": 4,
  "nbformat_minor": 0,
  "metadata": {
    "colab": {
      "name": "Neural_Networks.ipynb",
      "provenance": [],
      "authorship_tag": "ABX9TyPpa9U4LPE89l8vn31ZPlTZ",
      "include_colab_link": true
    },
    "kernelspec": {
      "name": "python3",
      "display_name": "Python 3"
    }
  },
  "cells": [
    {
      "cell_type": "markdown",
      "metadata": {
        "id": "view-in-github",
        "colab_type": "text"
      },
      "source": [
        "<a href=\"https://colab.research.google.com/github/JadCombreau/OptiML/blob/main/Neural_Networks.ipynb\" target=\"_parent\"><img src=\"https://colab.research.google.com/assets/colab-badge.svg\" alt=\"Open In Colab\"/></a>"
      ]
    },
    {
      "cell_type": "code",
      "metadata": {
        "id": "062xIkj7-_fM"
      },
      "source": [
        "from random import random \n",
        "\n",
        "class Neuron(object): \n",
        "    bias = 0 \n",
        "    output = 0 \n",
        "    weights = [] \n",
        "    def __init__(self, prev_layer_size): \n",
        "        self.weights = [random() for i in range(prev_layer_size)] \n",
        "    def __repr__(self): \n",
        "        return '{\"bias\":\"'+str(self.bias)+'\" , \"output\":\"'+str(self.output)+'\" , \"weights\":'+str(self.weights)+'}' \n",
        "\n",
        "class Layer(object): \n",
        "    activation = '' \n",
        "    neurons = [] \n",
        "    outputs = [] \n",
        "    def __init__(self, nb_neurons, prev_nb_neurons, activation): \n",
        "        self.activation = activation \n",
        "        self.neurons = [Neuron(prev_nb_neurons) for i in range(nb_neurons)] \n",
        "    def __repr__(self): \n",
        "        return '{\"activation\":\"'+str(self.activation)+'\" , \"neurons\":'+str(self.neurons)+' , \"outputs\":'+str(self.outputs)+'}' \n",
        "\n",
        "class Network(object): \n",
        "    layers = [] \n",
        "    def add(self, nb_neurons, activation='identity'): \n",
        "        layer = Layer(nb_neurons, \n",
        "                      len(self.layers[-1:][0].neurons) if len(self.layers)>0 else 0, activation) \n",
        "        self.layers.append(layer) \n",
        "    def __repr__(self): \n",
        "        return '{\"Network\":{\"layers\":'+str(self.layers)+'}}'"
      ],
      "execution_count": 1,
      "outputs": []
    },
    {
      "cell_type": "code",
      "metadata": {
        "id": "d7uazMt2_V9H",
        "outputId": "7d676030-d1a4-48f4-8dca-d993a1621843",
        "colab": {
          "base_uri": "https://localhost:8080/",
          "height": 85
        }
      },
      "source": [
        "import numpy as np\n",
        " \n",
        "epochs = 20000                                  # Number of iterations\n",
        "inputLayerSize, hiddenLayerSize, outputLayerSize = 2, 2, 1\n",
        "L = .1                                          # learning rate      \n",
        " \n",
        "X = np.array([[0,0], [0,1], [1,0], [1,1]])\n",
        "Y = np.array([ [0],   [1],   [1],   [0]])\n",
        " \n",
        "def sigmoid (x): return 1/(1 + np.exp(-x))      # activation function\n",
        "def sigmoid_(x): return x * (1 - x)             # derivative of sigmoid\n",
        "                                                # weights on layer inputs\n",
        "Wh = np.random.uniform(size=(inputLayerSize, hiddenLayerSize))\n",
        "Wz = np.random.uniform(size=(hiddenLayerSize,outputLayerSize))\n",
        "\n",
        "for i in range(epochs):\n",
        " \n",
        "    H = sigmoid(np.dot(X, Wh))                  # hidden layer results\n",
        "    Z = np.dot(H,Wz)                            # output layer, no activation\n",
        "    E = Y - Z                                   # how much we missed (error)\n",
        "    dZ = E * L                                  # delta Z\n",
        "    Wz +=  H.T.dot(dZ)                          # update output layer weights\n",
        "    dH = dZ.dot(Wz.T) * sigmoid_(H)             # delta H\n",
        "    Wh +=  X.T.dot(dH)                          # update hidden layer weights\n",
        "     \n",
        "print(Z) "
      ],
      "execution_count": 2,
      "outputs": [
        {
          "output_type": "stream",
          "text": [
            "[[-0.07135856]\n",
            " [ 0.98910466]\n",
            " [ 0.98910818]\n",
            " [ 0.05662995]]\n"
          ],
          "name": "stdout"
        }
      ]
    }
  ]
}